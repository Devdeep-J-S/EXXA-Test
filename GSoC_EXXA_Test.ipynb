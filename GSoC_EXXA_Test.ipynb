{
  "nbformat": 4,
  "nbformat_minor": 0,
  "metadata": {
    "colab": {
      "provenance": []
    },
    "kernelspec": {
      "name": "python3",
      "display_name": "Python 3"
    },
    "language_info": {
      "name": "python"
    }
  },
  "cells": [
    {
      "cell_type": "markdown",
      "source": [
        "GSOC - EXXA - Test <br>\n",
        "Name : Devdeep Shetranjiwala <br>\n",
        "Email ID : devdeep0702@gmail.com"
      ],
      "metadata": {
        "id": "7F4rGWA-6zau"
      }
    },
    {
      "cell_type": "markdown",
      "source": [
        "One of the most successful methods to detect exoplanets is using light curves. Several thousand planets have been discovered this way. The basic idea is that exoplanets crossing in front of their host stars will obscure part of the star, which decreases the amount of light that we see from that star. By carefully measuring the brightness over time, planets can be identified by the periodic dimming. The extent of the dimming depends on the specific parameters of the stellar system. For a basic introduction, see this blog. A more advanced discussion can be found here.\n",
        "\n",
        "\n",
        "Using these concepts, create a simulated dataset of transit curves. Include as many physical and system parameters that you think are necessary. Feel free to supplement the synthetic data with observational data. Use this data to train a classifier that determines whether or not a given transit curve shows the presence of a planet. See Terry et al. (2022) for an example of synthetic data creation and use.\n",
        "\n",
        "Script (ideally Jupyter Notebook) that includes the data-making process and model creation, training, and testing. The script should be able to be run from start to finish without user intervention. It should produce clear metrics and/or plots that allow quick performance analysis. Data may be augmented in whatever manner you please, but that process should be automated to allow us to test using withheld data.\n",
        "If the training process is long, feel free to deliver a pre-trained model of yours, ideally through a Google Drive\n",
        "Similarly, if you use any extra data and/or the data-making process is time-intensive, add a link to a Google Drive containing the data.\n",
        "\n",
        "AUC\n",
        "Accuracy at various confidence cutoffs\n",
        "Testing on our simulated datasets\n",
        "Testing on withheld observational data"
      ],
      "metadata": {
        "id": "MEcz-CnWN50V"
      }
    },
    {
      "cell_type": "markdown",
      "source": [
        "To create a simulated dataset of transit curves, we will use the transit function from the batman package. We will use the following system and physical parameters:\n",
        "\n",
        "Star radius: 1.0 R_sun\n",
        "Star mass: 1.0 M_sun\n",
        "Planet radius: 0.1 R_jup\n",
        "Planet semi-major axis: 0.05 AU\n",
        "Planet orbital inclination: 90 degrees\n",
        "Planet orbital period: 1.0 days\n",
        "Planet impact parameter: 0.5\n",
        "Limb darkening coefficients: [0.5, 0.3]\n",
        "We will create a total of 1000 transit curves, with half of them showing the presence of a planet and the other half not showing any planet. We will also add Gaussian noise with a standard deviation of 0.01 to the light curves.\n",
        "\n",
        "First, let's install and import the necessary packages."
      ],
      "metadata": {
        "id": "rkmu9tX1N9fw"
      }
    },
    {
      "cell_type": "markdown",
      "source": [
        "This code will create a simulated dataset of transit curves, split it into training and testing sets, train a neural network classifier on the training set, and evaluate the classifier on the testing set. It will also plot the training and validation loss over time, as well as the ROC curve.\n",
        "\n",
        "Note that we have used a simple feedforward neural network with two hidden layers, but more complex architectures may be necessary for more accurate classification."
      ],
      "metadata": {
        "id": "fnyTgYaSOHY0"
      }
    },
    {
      "cell_type": "code",
      "source": [
        "!pip install batman-package\n",
        "!pip install sklearn\n",
        "!pip install matplotlib\n",
        "\n",
        "import numpy as np\n",
        "import matplotlib.pyplot as plt\n",
        "from batman import TransitModel, TransitParams\n",
        "from sklearn.model_selection import train_test_split\n",
        "from sklearn.metrics import roc_auc_score, roc_curve, accuracy_score\n",
        "from tensorflow.keras.models import Sequential\n",
        "from tensorflow.keras.layers import Dense\n"
      ],
      "metadata": {
        "colab": {
          "base_uri": "https://localhost:8080/"
        },
        "id": "hrjRZlAEN-vB",
        "outputId": "ffbe6f56-17ab-4c42-e1f7-49562ec3d3a9"
      },
      "execution_count": null,
      "outputs": [
        {
          "output_type": "stream",
          "name": "stdout",
          "text": [
            "Looking in indexes: https://pypi.org/simple, https://us-python.pkg.dev/colab-wheels/public/simple/\n",
            "Collecting batman-package\n",
            "  Downloading batman-package-2.4.9.tar.gz (394 kB)\n",
            "\u001b[2K     \u001b[90m━━━━━━━━━━━━━━━━━━━━━━━━━━━━━━━━━━━━━━━\u001b[0m \u001b[32m394.8/394.8 KB\u001b[0m \u001b[31m9.4 MB/s\u001b[0m eta \u001b[36m0:00:00\u001b[0m\n",
            "\u001b[?25h  Installing build dependencies ... \u001b[?25l\u001b[?25hdone\n",
            "  Getting requirements to build wheel ... \u001b[?25l\u001b[?25hdone\n",
            "  Preparing metadata (pyproject.toml) ... \u001b[?25l\u001b[?25hdone\n",
            "Requirement already satisfied: numpy in /usr/local/lib/python3.9/dist-packages (from batman-package) (1.22.4)\n",
            "Building wheels for collected packages: batman-package\n",
            "  Building wheel for batman-package (pyproject.toml) ... \u001b[?25l\u001b[?25hdone\n",
            "  Created wheel for batman-package: filename=batman_package-2.4.9-cp39-cp39-linux_x86_64.whl size=227717 sha256=17d3e157618a025de96e593ef9477bc2350172bafca7c867054b6e65d679c85a\n",
            "  Stored in directory: /root/.cache/pip/wheels/d7/e6/87/9e667b1ee2fc30d7dc28f8917f37679a2d119cca17de605d92\n",
            "Successfully built batman-package\n",
            "Installing collected packages: batman-package\n",
            "Successfully installed batman-package-2.4.9\n",
            "Looking in indexes: https://pypi.org/simple, https://us-python.pkg.dev/colab-wheels/public/simple/\n",
            "Collecting sklearn\n",
            "  Downloading sklearn-0.0.post1.tar.gz (3.6 kB)\n",
            "  Preparing metadata (setup.py) ... \u001b[?25l\u001b[?25hdone\n",
            "Building wheels for collected packages: sklearn\n",
            "  Building wheel for sklearn (setup.py) ... \u001b[?25l\u001b[?25hdone\n",
            "  Created wheel for sklearn: filename=sklearn-0.0.post1-py3-none-any.whl size=2955 sha256=ba744106547814edfb843df94e0b5750a7803effe14f9006e6e6d68c224d0709\n",
            "  Stored in directory: /root/.cache/pip/wheels/f8/e0/3d/9d0c2020c44a519b9f02ab4fa6d2a4a996c98d79ab2f569fa1\n",
            "Successfully built sklearn\n",
            "Installing collected packages: sklearn\n",
            "Successfully installed sklearn-0.0.post1\n",
            "Looking in indexes: https://pypi.org/simple, https://us-python.pkg.dev/colab-wheels/public/simple/\n",
            "Requirement already satisfied: matplotlib in /usr/local/lib/python3.9/dist-packages (3.7.1)\n",
            "Requirement already satisfied: python-dateutil>=2.7 in /usr/local/lib/python3.9/dist-packages (from matplotlib) (2.8.2)\n",
            "Requirement already satisfied: contourpy>=1.0.1 in /usr/local/lib/python3.9/dist-packages (from matplotlib) (1.0.7)\n",
            "Requirement already satisfied: cycler>=0.10 in /usr/local/lib/python3.9/dist-packages (from matplotlib) (0.11.0)\n",
            "Requirement already satisfied: importlib-resources>=3.2.0 in /usr/local/lib/python3.9/dist-packages (from matplotlib) (5.12.0)\n",
            "Requirement already satisfied: packaging>=20.0 in /usr/local/lib/python3.9/dist-packages (from matplotlib) (23.0)\n",
            "Requirement already satisfied: pyparsing>=2.3.1 in /usr/local/lib/python3.9/dist-packages (from matplotlib) (3.0.9)\n",
            "Requirement already satisfied: fonttools>=4.22.0 in /usr/local/lib/python3.9/dist-packages (from matplotlib) (4.39.2)\n",
            "Requirement already satisfied: kiwisolver>=1.0.1 in /usr/local/lib/python3.9/dist-packages (from matplotlib) (1.4.4)\n",
            "Requirement already satisfied: numpy>=1.20 in /usr/local/lib/python3.9/dist-packages (from matplotlib) (1.22.4)\n",
            "Requirement already satisfied: pillow>=6.2.0 in /usr/local/lib/python3.9/dist-packages (from matplotlib) (8.4.0)\n",
            "Requirement already satisfied: zipp>=3.1.0 in /usr/local/lib/python3.9/dist-packages (from importlib-resources>=3.2.0->matplotlib) (3.15.0)\n",
            "Requirement already satisfied: six>=1.5 in /usr/local/lib/python3.9/dist-packages (from python-dateutil>=2.7->matplotlib) (1.16.0)\n"
          ]
        }
      ]
    },
    {
      "cell_type": "code",
      "source": [
        "def create_transit_curve(time, p):\n",
        "    \"\"\"\n",
        "    Creates a transit curve using the given time array and parameters.\n",
        "    \n",
        "    Parameters:\n",
        "    time (array): Array of time values.\n",
        "    p (dict): Dictionary of system and physical parameters.\n",
        "    \n",
        "    Returns:\n",
        "    flux (array): Array of flux values for the transit curve.\n",
        "    \"\"\"\n",
        "    \n",
        "    params = TransitParams()\n",
        "    params.per = p['period']                        # Orbital period\n",
        "    params.t0 = 0.                                   # Transit midpoint\n",
        "    params.rp = p['radius'] / p['star_radius']       # Planet-to-star radius ratio\n",
        "    params.a = p['semi_major_axis'] / p['star_radius']  # Semi-major axis (in units of stellar radii)\n",
        "    params.inc = p['inclination']                   # Orbital inclination (in degrees)\n",
        "    params.ecc = 0.                                  # Eccentricity\n",
        "    params.w = 90.                                   # Longitude of periastron (in degrees)\n",
        "    params.u = p['limb_darkening']                   # Limb darkening coefficients\n",
        "    params.limb_dark = 'quadratic'                   # Limb darkening model\n",
        "    \n",
        "    m = TransitModel(params, time)\n",
        "    flux = m.light_curve(params)\n",
        "    \n",
        "    return flux\n"
      ],
      "metadata": {
        "id": "A2dpPM8nOAXp"
      },
      "execution_count": null,
      "outputs": []
    },
    {
      "cell_type": "code",
      "source": [
        "np.random.seed(42)\n",
        "\n",
        "# Define the parameters for the simulated dataset\n",
        "p = {\n",
        "    'star_radius': 1.0,                   # Star radius (in solar radii)\n",
        "    'star_mass': 1.0,                     # Star mass (in solar masses)\n",
        "    'radius': 0.1,                        # Planet radius (in Jupiter radii)\n",
        "    'semi_major_axis': 0.05,              # Planet semi-major axis (in AU)\n",
        "    'inclination': 90.0,                  # Planet orbital inclination (in degrees)\n",
        "    'period': 1.0,                        # Planet orbital period (in days)\n",
        "    'impact_parameter': 0.5,              # Planet impact parameter\n",
        "    'limb_darkening': [0.5, 0.3]          # Limb darkening coefficients\n",
        "}\n",
        "\n",
        "# Create the time array\n",
        "time = np.linspace(0, p['period'], num=1000)\n",
        "\n",
        "# Create the simulated dataset\n",
        "X = []\n",
        "y = []\n",
        "for i in range(1000):\n",
        "    # Generate a random noise level\n",
        "    noise = np.random.normal(0, 0.01, len(time))\n",
        "    \n",
        "    # Create the transit curve\n",
        "    flux = create_transit_curve(time, p)\n",
        "    \n",
        "    # Add noise to the transit curve\n",
        "    flux += noise\n",
        "    \n",
        "    # Add the transit curve to the dataset\n",
        "    X.append(flux)\n",
        "    \n",
        "    # Add the label to the dataset\n",
        "    if i < 500:\n",
        "        y.append(0)    # No planet\n",
        "    else:\n",
        "        y.append(1)    # Planet\n",
        "        \n",
        "X = np.array(X)\n",
        "y = np.array(y)\n",
        "\n",
        "# Split the dataset into training and testing sets\n",
        "X_train, X_test, y_train, y_test = train_test_split(X, y, test_size=0.2, random_state=42)\n",
        "\n",
        "# Define the model architecture\n",
        "model = Sequential()\n",
        "model.add(Dense(64, input_dim=len(time), activation='relu'))\n",
        "model.add(Dense(32, activation='relu'))\n",
        "model.add(Dense(1, activation='sigmoid'))\n",
        "\n",
        "# Compile the model\n",
        "model.compile(loss='binary_crossentropy', optimizer='adam', metrics=['accuracy'])\n",
        "\n",
        "# Train the model\n",
        "history = model.fit(X_train, y_train, validation_split=0.2, epochs=50, batch_size=32)\n",
        "\n",
        "# Evaluate the model on the testing set\n",
        "y_pred = model.predict(X_test)\n",
        "y_pred = (y_pred >= 0.5).astype(int)\n",
        "accuracy = accuracy_score(y_test, y_pred)\n",
        "auc = roc_auc_score(y_test, y_pred)\n",
        "print('Accuracy:', accuracy)\n",
        "print('AUC:', auc)\n",
        "\n",
        "# Plot the training and validation loss over time\n",
        "plt.plot(history.history['loss'], label='train_loss')\n",
        "plt.plot(history.history['val_loss'], label='val_loss')\n",
        "plt.legend()\n",
        "plt.show()\n",
        "\n",
        "# Plot the ROC curve\n",
        "fpr, tpr, _ = roc_curve(y_test, y_pred)\n",
        "plt.plot(fpr, tpr)\n",
        "plt.xlabel('False Positive Rate')\n",
        "plt.ylabel('True Positive Rate')\n",
        "plt.title('ROC Curve')\n",
        "plt.show()\n"
      ],
      "metadata": {
        "id": "4t_GNF1qODDy",
        "colab": {
          "base_uri": "https://localhost:8080/",
          "height": 1000
        },
        "outputId": "84fd02f9-bb6d-4291-b090-4a3c57fe39c1"
      },
      "execution_count": null,
      "outputs": [
        {
          "output_type": "stream",
          "name": "stdout",
          "text": [
            "Epoch 1/50\n",
            "20/20 [==============================] - 1s 14ms/step - loss: 0.7586 - accuracy: 0.4750 - val_loss: 0.6888 - val_accuracy: 0.5500\n",
            "Epoch 2/50\n",
            "20/20 [==============================] - 0s 4ms/step - loss: 0.7050 - accuracy: 0.4625 - val_loss: 0.6887 - val_accuracy: 0.5500\n",
            "Epoch 3/50\n",
            "20/20 [==============================] - 0s 4ms/step - loss: 0.7104 - accuracy: 0.4750 - val_loss: 0.6914 - val_accuracy: 0.5500\n",
            "Epoch 4/50\n",
            "20/20 [==============================] - 0s 4ms/step - loss: 0.6968 - accuracy: 0.5312 - val_loss: 0.6902 - val_accuracy: 0.5500\n",
            "Epoch 5/50\n",
            "20/20 [==============================] - 0s 5ms/step - loss: 0.7028 - accuracy: 0.4938 - val_loss: 0.7242 - val_accuracy: 0.4500\n",
            "Epoch 6/50\n",
            "20/20 [==============================] - 0s 5ms/step - loss: 0.7111 - accuracy: 0.4906 - val_loss: 0.6903 - val_accuracy: 0.5500\n",
            "Epoch 7/50\n",
            "20/20 [==============================] - 0s 4ms/step - loss: 0.7109 - accuracy: 0.4812 - val_loss: 0.6982 - val_accuracy: 0.5500\n",
            "Epoch 8/50\n",
            "20/20 [==============================] - 0s 5ms/step - loss: 0.7127 - accuracy: 0.4563 - val_loss: 0.7149 - val_accuracy: 0.4500\n",
            "Epoch 9/50\n",
            "20/20 [==============================] - 0s 4ms/step - loss: 0.7047 - accuracy: 0.5281 - val_loss: 0.7031 - val_accuracy: 0.4500\n",
            "Epoch 10/50\n",
            "20/20 [==============================] - 0s 4ms/step - loss: 0.7015 - accuracy: 0.4781 - val_loss: 0.6884 - val_accuracy: 0.5500\n",
            "Epoch 11/50\n",
            "20/20 [==============================] - 0s 5ms/step - loss: 0.7010 - accuracy: 0.5219 - val_loss: 0.6882 - val_accuracy: 0.5500\n",
            "Epoch 12/50\n",
            "20/20 [==============================] - 0s 4ms/step - loss: 0.7133 - accuracy: 0.4875 - val_loss: 0.7276 - val_accuracy: 0.4500\n",
            "Epoch 13/50\n",
            "20/20 [==============================] - 0s 4ms/step - loss: 0.7067 - accuracy: 0.5000 - val_loss: 0.7193 - val_accuracy: 0.4500\n",
            "Epoch 14/50\n",
            "20/20 [==============================] - 0s 5ms/step - loss: 0.7158 - accuracy: 0.5031 - val_loss: 0.6895 - val_accuracy: 0.5500\n",
            "Epoch 15/50\n",
            "20/20 [==============================] - 0s 5ms/step - loss: 0.6969 - accuracy: 0.5188 - val_loss: 0.7019 - val_accuracy: 0.4500\n",
            "Epoch 16/50\n",
            "20/20 [==============================] - 0s 4ms/step - loss: 0.6925 - accuracy: 0.5375 - val_loss: 0.7246 - val_accuracy: 0.4500\n",
            "Epoch 17/50\n",
            "20/20 [==============================] - 0s 4ms/step - loss: 0.6965 - accuracy: 0.5312 - val_loss: 0.7183 - val_accuracy: 0.4500\n",
            "Epoch 18/50\n",
            "20/20 [==============================] - 0s 4ms/step - loss: 0.7009 - accuracy: 0.5000 - val_loss: 0.7012 - val_accuracy: 0.4500\n",
            "Epoch 19/50\n",
            "20/20 [==============================] - 0s 4ms/step - loss: 0.6991 - accuracy: 0.4812 - val_loss: 0.6886 - val_accuracy: 0.5500\n",
            "Epoch 20/50\n",
            "20/20 [==============================] - 0s 4ms/step - loss: 0.7034 - accuracy: 0.5094 - val_loss: 0.6884 - val_accuracy: 0.5500\n",
            "Epoch 21/50\n",
            "20/20 [==============================] - 0s 5ms/step - loss: 0.7030 - accuracy: 0.4719 - val_loss: 0.6899 - val_accuracy: 0.5500\n",
            "Epoch 22/50\n",
            "20/20 [==============================] - 0s 4ms/step - loss: 0.6978 - accuracy: 0.5078 - val_loss: 0.7178 - val_accuracy: 0.4500\n",
            "Epoch 23/50\n",
            "20/20 [==============================] - 0s 4ms/step - loss: 0.7021 - accuracy: 0.5250 - val_loss: 0.7262 - val_accuracy: 0.4500\n",
            "Epoch 24/50\n",
            "20/20 [==============================] - 0s 5ms/step - loss: 0.6962 - accuracy: 0.5312 - val_loss: 0.7118 - val_accuracy: 0.4500\n",
            "Epoch 25/50\n",
            "20/20 [==============================] - 0s 5ms/step - loss: 0.7053 - accuracy: 0.5016 - val_loss: 0.6992 - val_accuracy: 0.5500\n",
            "Epoch 26/50\n",
            "20/20 [==============================] - 0s 4ms/step - loss: 0.7097 - accuracy: 0.4906 - val_loss: 0.6881 - val_accuracy: 0.5500\n",
            "Epoch 27/50\n",
            "20/20 [==============================] - 0s 4ms/step - loss: 0.7003 - accuracy: 0.4750 - val_loss: 0.7113 - val_accuracy: 0.4500\n",
            "Epoch 28/50\n",
            "20/20 [==============================] - 0s 4ms/step - loss: 0.7071 - accuracy: 0.4938 - val_loss: 0.6885 - val_accuracy: 0.5500\n",
            "Epoch 29/50\n",
            "20/20 [==============================] - 0s 5ms/step - loss: 0.7004 - accuracy: 0.4812 - val_loss: 0.6922 - val_accuracy: 0.5500\n",
            "Epoch 30/50\n",
            "20/20 [==============================] - 0s 5ms/step - loss: 0.7019 - accuracy: 0.4984 - val_loss: 0.6881 - val_accuracy: 0.5500\n",
            "Epoch 31/50\n",
            "20/20 [==============================] - 0s 4ms/step - loss: 0.7090 - accuracy: 0.5094 - val_loss: 0.6917 - val_accuracy: 0.5500\n",
            "Epoch 32/50\n",
            "20/20 [==============================] - 0s 6ms/step - loss: 0.6945 - accuracy: 0.5188 - val_loss: 0.7053 - val_accuracy: 0.4500\n",
            "Epoch 33/50\n",
            "20/20 [==============================] - 0s 4ms/step - loss: 0.6970 - accuracy: 0.4812 - val_loss: 0.7069 - val_accuracy: 0.4500\n",
            "Epoch 34/50\n",
            "20/20 [==============================] - 0s 4ms/step - loss: 0.6974 - accuracy: 0.4938 - val_loss: 0.6906 - val_accuracy: 0.5500\n",
            "Epoch 35/50\n",
            "20/20 [==============================] - 0s 4ms/step - loss: 0.6942 - accuracy: 0.4750 - val_loss: 0.6944 - val_accuracy: 0.4500\n",
            "Epoch 36/50\n",
            "20/20 [==============================] - 0s 5ms/step - loss: 0.6956 - accuracy: 0.4844 - val_loss: 0.6894 - val_accuracy: 0.5500\n",
            "Epoch 37/50\n",
            "20/20 [==============================] - 0s 5ms/step - loss: 0.6924 - accuracy: 0.5219 - val_loss: 0.7109 - val_accuracy: 0.4500\n",
            "Epoch 38/50\n",
            "20/20 [==============================] - 0s 4ms/step - loss: 0.6959 - accuracy: 0.5063 - val_loss: 0.6947 - val_accuracy: 0.4500\n",
            "Epoch 39/50\n",
            "20/20 [==============================] - 0s 4ms/step - loss: 0.6952 - accuracy: 0.4563 - val_loss: 0.6956 - val_accuracy: 0.4500\n",
            "Epoch 40/50\n",
            "20/20 [==============================] - 0s 4ms/step - loss: 0.6955 - accuracy: 0.5000 - val_loss: 0.6916 - val_accuracy: 0.5500\n",
            "Epoch 41/50\n",
            "20/20 [==============================] - 0s 6ms/step - loss: 0.6941 - accuracy: 0.4781 - val_loss: 0.6933 - val_accuracy: 0.4500\n",
            "Epoch 42/50\n",
            "20/20 [==============================] - 0s 6ms/step - loss: 0.6935 - accuracy: 0.4922 - val_loss: 0.6955 - val_accuracy: 0.4500\n",
            "Epoch 43/50\n",
            "20/20 [==============================] - 0s 5ms/step - loss: 0.6937 - accuracy: 0.5063 - val_loss: 0.6947 - val_accuracy: 0.4500\n",
            "Epoch 44/50\n",
            "20/20 [==============================] - 0s 4ms/step - loss: 0.6937 - accuracy: 0.4797 - val_loss: 0.6927 - val_accuracy: 0.5500\n",
            "Epoch 45/50\n",
            "20/20 [==============================] - 0s 4ms/step - loss: 0.6961 - accuracy: 0.4938 - val_loss: 0.6968 - val_accuracy: 0.4500\n",
            "Epoch 46/50\n",
            "20/20 [==============================] - 0s 4ms/step - loss: 0.6943 - accuracy: 0.4688 - val_loss: 0.6916 - val_accuracy: 0.5500\n",
            "Epoch 47/50\n",
            "20/20 [==============================] - 0s 5ms/step - loss: 0.6941 - accuracy: 0.4688 - val_loss: 0.6944 - val_accuracy: 0.4500\n",
            "Epoch 48/50\n",
            "20/20 [==============================] - 0s 5ms/step - loss: 0.6933 - accuracy: 0.5063 - val_loss: 0.6938 - val_accuracy: 0.4500\n",
            "Epoch 49/50\n",
            "20/20 [==============================] - 0s 5ms/step - loss: 0.6939 - accuracy: 0.5063 - val_loss: 0.6946 - val_accuracy: 0.4500\n",
            "Epoch 50/50\n",
            "20/20 [==============================] - 0s 5ms/step - loss: 0.6933 - accuracy: 0.5063 - val_loss: 0.6937 - val_accuracy: 0.4500\n",
            "7/7 [==============================] - 0s 2ms/step\n",
            "Accuracy: 0.52\n",
            "AUC: 0.5\n"
          ]
        },
        {
          "output_type": "display_data",
          "data": {
            "text/plain": [
              "<Figure size 432x288 with 1 Axes>"
            ],
            "image/png": "[encoded data removed]"
          },
          "metadata": {
            "needs_background": "light"
          }
        },
        {
          "output_type": "display_data",
          "data": {
            "text/plain": [
              "<Figure size 432x288 with 1 Axes>"
            ],
            "image/png": "[encoded data removed]"
          },
          "metadata": {
            "needs_background": "light"
          }
        }
      ]
    }
  ]
}